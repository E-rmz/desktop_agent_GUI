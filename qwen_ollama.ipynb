{
 "cells": [
  {
   "cell_type": "code",
   "execution_count": 1,
   "metadata": {},
   "outputs": [],
   "source": [
    "import ollama\n",
    "import requests\n",
    "import base64\n",
    "from pathlib import Path"
   ]
  },
  {
   "cell_type": "code",
   "execution_count": 3,
   "metadata": {},
   "outputs": [],
   "source": [
    "def load_image_from_path(image_path):\n",
    "    \"\"\"Load image from local file path and return as bytes\"\"\"\n",
    "    print(f\"Loading image from: {image_path}\")\n",
    "    with open(image_path, 'rb') as f:\n",
    "        return f.read()"
   ]
  },
  {
   "cell_type": "code",
   "execution_count": 3,
   "metadata": {},
   "outputs": [
    {
     "name": "stdout",
     "output_type": "stream",
     "text": [
      "{\"name\": \"Desktop_Agent-1th-action\", \"arguments\": {\"action\": \"LeftClick\", \"coordinate\": [644, 322]}}\n",
      "<tool_call>\n",
      "{\"name\": \"Desktop_Agent-2th-action\", \"arguments\": {\"action\": \"Type\", \"text_to_type\": \"https://www.google.com\"}}\n",
      "<tool_call>\n",
      "{\"name\": \"Desktop_Agent-3th-action\", \"arguments\": {\"action\": \"Type\", \"text_to_type\": \"cheapest flight from Bologna to Paris from 4th Aug. to 8th Aug\"}}\n",
      "\n"
     ]
    }
   ],
   "source": [
    "import base64\n",
    "import requests\n",
    "\n",
    "# Load your image and convert to base64\n",
    "with open(\"/Users/ehsan/Documents/Mcp_test/screenshots/booking-dataset/Screenshot 2025-06-12 at 14.19.11-Step0.png\", \"rb\") as img_file:\n",
    "    base64_image = base64.b64encode(img_file.read()).decode('utf-8')\n",
    "prompt_text = \"\"\"You are an expert computer operator. Your goal is to complete a task by interacting with a computer screen. Based on the provided image and the overall task description, you must determine the single next best action to perform.\n",
    "\n",
    "You must respond *only* with a function call or multiple function calls with correct ordered 'name' in the following XML format:\n",
    "<tool_call>\n",
    "{\"name\": \"Desktop_Agent-1th-action\", \"arguments\": {\"action\": \"<action_name>\", ...parameters}}\n",
    "{\"name\": \"Desktop_Agent-2th-action\", \"arguments\": {\"action\": \"<action_name>\", ...parameters}}\n",
    "</tool_call>\n",
    "\n",
    "**Available Actions:**\n",
    "\n",
    "1.  `LeftClick`\n",
    "    *   **Description:** Performs a single left-click at a specific point on the screen.\n",
    "    *   **Parameters:**\n",
    "        *   `coordinate`: A list of two integers `[x, y]`, where `x` is the number of pixels from the left edge and `y` is the number of pixels from the top edge.\n",
    "\n",
    "2.  `RightClick`\n",
    "    *   **Description:** Performs a single right-click at a specific point on the screen.\n",
    "    *   **Parameters:**\n",
    "        *   `coordinate`: A list of two integers `[x, y]`, where `x` is the number of pixels from the left edge and `y` is the number of pixels from the top edge.\n",
    "\n",
    "3.  `Type`\n",
    "    *   **Description:** Types a given string of text into the currently focused element. This action does not press Enter.\n",
    "    *   **Parameters:**\n",
    "        *   `text_to_type`: The string of text to be entered.\n",
    "\n",
    "4.  `PressKey`\n",
    "    *   **Description:** Presses a specific key on the keyboard.\n",
    "    *   **Parameters:**\n",
    "        *   `key_name`: The name of the key to press (e.g., \"Enter\", \"Escape\", \"Tab\", \"ArrowDown\").\n",
    "\n",
    "5.  `Scroll`\n",
    "    * **Description:** Scrolls the active window or frame by a specified number of pixels.\n",
    "    * **Parameters:**\n",
    "        * `direction` (string): Either `'up'` or `'down'`.\n",
    "        * `distance` (integer): Number of pixels to scroll (positive value). Common conventions:\n",
    "            * **Tiny scroll:** 50 px\n",
    "            * **Moderate scroll:** 300 px\n",
    "            * **Large scroll:** 800 px\n",
    "\n",
    "6.  `AnswerAction`\n",
    "    *   **Description:** Provides a final text answer when the task is fully completed and no further on-screen actions are required.\n",
    "    *   **Parameters:**\n",
    "        *   `answer`: The final string answer to the overall task.\n",
    "\n",
    "---\n",
    "**Overall Task:**\n",
    "Go to the booking website through Google Chrome and find the cheapest flight from Bologna to Paris from 4th Aug. to 8th Aug.\n",
    "\n",
    "**Next Action:**\n",
    "what is the coordinate of the center of the image if we suppose the left top corner is (0,0). \n",
    "\"\"\"\n",
    "# Payload including the image\n",
    "payload = {\n",
    "    \"model\": \"qwen2.5vl\",\n",
    "    \"prompt\": prompt_text,\n",
    "    \"images\": [base64_image],\n",
    "    \"temperature\": 0.001,\n",
    "    \"stream\": False\n",
    "}\n",
    "\n",
    "response = requests.post(\"http://localhost:11434/api/generate\", json=payload)\n",
    "print(response.json()['response'])"
   ]
  },
  {
   "cell_type": "code",
   "execution_count": null,
   "metadata": {},
   "outputs": [],
   "source": []
  }
 ],
 "metadata": {
  "kernelspec": {
   "display_name": ".venv",
   "language": "python",
   "name": "python3"
  },
  "language_info": {
   "codemirror_mode": {
    "name": "ipython",
    "version": 3
   },
   "file_extension": ".py",
   "mimetype": "text/x-python",
   "name": "python",
   "nbconvert_exporter": "python",
   "pygments_lexer": "ipython3",
   "version": "3.12.8"
  }
 },
 "nbformat": 4,
 "nbformat_minor": 2
}
